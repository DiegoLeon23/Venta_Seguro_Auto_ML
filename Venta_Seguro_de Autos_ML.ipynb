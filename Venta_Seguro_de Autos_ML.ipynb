{
 "cells": [
  {
   "cell_type": "markdown",
   "metadata": {},
   "source": [
    "# MODELOS DE MACHINE LEARNING APLICADOS A LA PREDICCIÓN DE VENTAS DE SEGURO PARA AUTOMOVILES"
   ]
  },
  {
   "cell_type": "markdown",
   "metadata": {},
   "source": [
    "# 1. Importamos las librerias"
   ]
  },
  {
   "cell_type": "code",
   "execution_count": 4,
   "metadata": {},
   "outputs": [],
   "source": [
    "import pandas as pd\n",
    "import numpy as np\n",
    "\n",
    "import matplotlib.pyplot as plt\n",
    "import seaborn as sns\n",
    "\n",
    "from imblearn.over_sampling import SMOTE\n",
    "from sklearn.preprocessing import LabelEncoder\n",
    "from sklearn.linear_model import LogisticRegression\n",
    "from sklearn.tree import DecisionTreeClassifier\n",
    "from sklearn.utils import resample\n",
    "from sklearn.model_selection import train_test_split,cross_val_score,GridSearchCV\n",
    "from sklearn import neighbors\n",
    "from sklearn.metrics import confusion_matrix, precision_score, recall_score\n",
    "\n",
    "import os\n",
    "import warnings\n",
    "warnings.filterwarnings('ignore')"
   ]
  },
  {
   "cell_type": "markdown",
   "metadata": {},
   "source": [
    "# 2. Importamos los datos"
   ]
  },
  {
   "cell_type": "markdown",
   "metadata": {},
   "source": [
    "**Vamos a utilizar un análisis predictivo para analizar a los clientes mas importantes y rentables y como estos interactúan. Realizaremos acciones especificas para aumentar la respuesta, las retención y el crecimiento rentable de los clientes**"
   ]
  },
  {
   "cell_type": "code",
   "execution_count": 5,
   "metadata": {},
   "outputs": [],
   "source": [
    "os.chdir('D:\\MiniProyectos_Python\\Car_Sales_Analysis')"
   ]
  },
  {
   "cell_type": "code",
   "execution_count": 6,
   "metadata": {},
   "outputs": [],
   "source": [
    "miArchivo='WA_Fn-UseC_-Marketing-Customer-Value-Analysis.csv'\n",
    "data=pd.read_csv(miArchivo)"
   ]
  },
  {
   "cell_type": "code",
   "execution_count": 7,
   "metadata": {},
   "outputs": [
    {
     "data": {
      "text/html": [
       "<div>\n",
       "<style scoped>\n",
       "    .dataframe tbody tr th:only-of-type {\n",
       "        vertical-align: middle;\n",
       "    }\n",
       "\n",
       "    .dataframe tbody tr th {\n",
       "        vertical-align: top;\n",
       "    }\n",
       "\n",
       "    .dataframe thead th {\n",
       "        text-align: right;\n",
       "    }\n",
       "</style>\n",
       "<table border=\"1\" class=\"dataframe\">\n",
       "  <thead>\n",
       "    <tr style=\"text-align: right;\">\n",
       "      <th></th>\n",
       "      <th>Customer</th>\n",
       "      <th>State</th>\n",
       "      <th>Customer Lifetime Value</th>\n",
       "      <th>Response</th>\n",
       "      <th>Coverage</th>\n",
       "      <th>Education</th>\n",
       "      <th>Effective To Date</th>\n",
       "      <th>EmploymentStatus</th>\n",
       "      <th>Gender</th>\n",
       "      <th>Income</th>\n",
       "      <th>...</th>\n",
       "      <th>Months Since Policy Inception</th>\n",
       "      <th>Number of Open Complaints</th>\n",
       "      <th>Number of Policies</th>\n",
       "      <th>Policy Type</th>\n",
       "      <th>Policy</th>\n",
       "      <th>Renew Offer Type</th>\n",
       "      <th>Sales Channel</th>\n",
       "      <th>Total Claim Amount</th>\n",
       "      <th>Vehicle Class</th>\n",
       "      <th>Vehicle Size</th>\n",
       "    </tr>\n",
       "  </thead>\n",
       "  <tbody>\n",
       "    <tr>\n",
       "      <th>0</th>\n",
       "      <td>BU79786</td>\n",
       "      <td>Washington</td>\n",
       "      <td>2763.519279</td>\n",
       "      <td>No</td>\n",
       "      <td>Basic</td>\n",
       "      <td>Bachelor</td>\n",
       "      <td>2/24/11</td>\n",
       "      <td>Employed</td>\n",
       "      <td>F</td>\n",
       "      <td>56274</td>\n",
       "      <td>...</td>\n",
       "      <td>5</td>\n",
       "      <td>0</td>\n",
       "      <td>1</td>\n",
       "      <td>Corporate Auto</td>\n",
       "      <td>Corporate L3</td>\n",
       "      <td>Offer1</td>\n",
       "      <td>Agent</td>\n",
       "      <td>384.811147</td>\n",
       "      <td>Two-Door Car</td>\n",
       "      <td>Medsize</td>\n",
       "    </tr>\n",
       "    <tr>\n",
       "      <th>1</th>\n",
       "      <td>QZ44356</td>\n",
       "      <td>Arizona</td>\n",
       "      <td>6979.535903</td>\n",
       "      <td>No</td>\n",
       "      <td>Extended</td>\n",
       "      <td>Bachelor</td>\n",
       "      <td>1/31/11</td>\n",
       "      <td>Unemployed</td>\n",
       "      <td>F</td>\n",
       "      <td>0</td>\n",
       "      <td>...</td>\n",
       "      <td>42</td>\n",
       "      <td>0</td>\n",
       "      <td>8</td>\n",
       "      <td>Personal Auto</td>\n",
       "      <td>Personal L3</td>\n",
       "      <td>Offer3</td>\n",
       "      <td>Agent</td>\n",
       "      <td>1131.464935</td>\n",
       "      <td>Four-Door Car</td>\n",
       "      <td>Medsize</td>\n",
       "    </tr>\n",
       "    <tr>\n",
       "      <th>2</th>\n",
       "      <td>AI49188</td>\n",
       "      <td>Nevada</td>\n",
       "      <td>12887.431650</td>\n",
       "      <td>No</td>\n",
       "      <td>Premium</td>\n",
       "      <td>Bachelor</td>\n",
       "      <td>2/19/11</td>\n",
       "      <td>Employed</td>\n",
       "      <td>F</td>\n",
       "      <td>48767</td>\n",
       "      <td>...</td>\n",
       "      <td>38</td>\n",
       "      <td>0</td>\n",
       "      <td>2</td>\n",
       "      <td>Personal Auto</td>\n",
       "      <td>Personal L3</td>\n",
       "      <td>Offer1</td>\n",
       "      <td>Agent</td>\n",
       "      <td>566.472247</td>\n",
       "      <td>Two-Door Car</td>\n",
       "      <td>Medsize</td>\n",
       "    </tr>\n",
       "    <tr>\n",
       "      <th>3</th>\n",
       "      <td>WW63253</td>\n",
       "      <td>California</td>\n",
       "      <td>7645.861827</td>\n",
       "      <td>No</td>\n",
       "      <td>Basic</td>\n",
       "      <td>Bachelor</td>\n",
       "      <td>1/20/11</td>\n",
       "      <td>Unemployed</td>\n",
       "      <td>M</td>\n",
       "      <td>0</td>\n",
       "      <td>...</td>\n",
       "      <td>65</td>\n",
       "      <td>0</td>\n",
       "      <td>7</td>\n",
       "      <td>Corporate Auto</td>\n",
       "      <td>Corporate L2</td>\n",
       "      <td>Offer1</td>\n",
       "      <td>Call Center</td>\n",
       "      <td>529.881344</td>\n",
       "      <td>SUV</td>\n",
       "      <td>Medsize</td>\n",
       "    </tr>\n",
       "    <tr>\n",
       "      <th>4</th>\n",
       "      <td>HB64268</td>\n",
       "      <td>Washington</td>\n",
       "      <td>2813.692575</td>\n",
       "      <td>No</td>\n",
       "      <td>Basic</td>\n",
       "      <td>Bachelor</td>\n",
       "      <td>2/3/11</td>\n",
       "      <td>Employed</td>\n",
       "      <td>M</td>\n",
       "      <td>43836</td>\n",
       "      <td>...</td>\n",
       "      <td>44</td>\n",
       "      <td>0</td>\n",
       "      <td>1</td>\n",
       "      <td>Personal Auto</td>\n",
       "      <td>Personal L1</td>\n",
       "      <td>Offer1</td>\n",
       "      <td>Agent</td>\n",
       "      <td>138.130879</td>\n",
       "      <td>Four-Door Car</td>\n",
       "      <td>Medsize</td>\n",
       "    </tr>\n",
       "  </tbody>\n",
       "</table>\n",
       "<p>5 rows × 24 columns</p>\n",
       "</div>"
      ],
      "text/plain": [
       "  Customer       State  Customer Lifetime Value Response  Coverage Education  \\\n",
       "0  BU79786  Washington              2763.519279       No     Basic  Bachelor   \n",
       "1  QZ44356     Arizona              6979.535903       No  Extended  Bachelor   \n",
       "2  AI49188      Nevada             12887.431650       No   Premium  Bachelor   \n",
       "3  WW63253  California              7645.861827       No     Basic  Bachelor   \n",
       "4  HB64268  Washington              2813.692575       No     Basic  Bachelor   \n",
       "\n",
       "  Effective To Date EmploymentStatus Gender  Income  ...  \\\n",
       "0           2/24/11         Employed      F   56274  ...   \n",
       "1           1/31/11       Unemployed      F       0  ...   \n",
       "2           2/19/11         Employed      F   48767  ...   \n",
       "3           1/20/11       Unemployed      M       0  ...   \n",
       "4            2/3/11         Employed      M   43836  ...   \n",
       "\n",
       "  Months Since Policy Inception Number of Open Complaints  Number of Policies  \\\n",
       "0                             5                         0                   1   \n",
       "1                            42                         0                   8   \n",
       "2                            38                         0                   2   \n",
       "3                            65                         0                   7   \n",
       "4                            44                         0                   1   \n",
       "\n",
       "      Policy Type        Policy  Renew Offer Type  Sales Channel  \\\n",
       "0  Corporate Auto  Corporate L3            Offer1          Agent   \n",
       "1   Personal Auto   Personal L3            Offer3          Agent   \n",
       "2   Personal Auto   Personal L3            Offer1          Agent   \n",
       "3  Corporate Auto  Corporate L2            Offer1    Call Center   \n",
       "4   Personal Auto   Personal L1            Offer1          Agent   \n",
       "\n",
       "  Total Claim Amount  Vehicle Class Vehicle Size  \n",
       "0         384.811147   Two-Door Car      Medsize  \n",
       "1        1131.464935  Four-Door Car      Medsize  \n",
       "2         566.472247   Two-Door Car      Medsize  \n",
       "3         529.881344            SUV      Medsize  \n",
       "4         138.130879  Four-Door Car      Medsize  \n",
       "\n",
       "[5 rows x 24 columns]"
      ]
     },
     "execution_count": 7,
     "metadata": {},
     "output_type": "execute_result"
    }
   ],
   "source": [
    "data.head()"
   ]
  },
  {
   "cell_type": "markdown",
   "metadata": {},
   "source": [
    "# 3. Analisis exploratorio de datos (EDA)"
   ]
  },
  {
   "cell_type": "code",
   "execution_count": 8,
   "metadata": {},
   "outputs": [
    {
     "data": {
      "text/plain": [
       "Index(['Customer', 'State', 'Customer Lifetime Value', 'Response', 'Coverage',\n",
       "       'Education', 'Effective To Date', 'EmploymentStatus', 'Gender',\n",
       "       'Income', 'Location Code', 'Marital Status', 'Monthly Premium Auto',\n",
       "       'Months Since Last Claim', 'Months Since Policy Inception',\n",
       "       'Number of Open Complaints', 'Number of Policies', 'Policy Type',\n",
       "       'Policy', 'Renew Offer Type', 'Sales Channel', 'Total Claim Amount',\n",
       "       'Vehicle Class', 'Vehicle Size'],\n",
       "      dtype='object')"
      ]
     },
     "execution_count": 8,
     "metadata": {},
     "output_type": "execute_result"
    }
   ],
   "source": [
    "data.columns"
   ]
  },
  {
   "cell_type": "code",
   "execution_count": 9,
   "metadata": {},
   "outputs": [
    {
     "data": {
      "text/plain": [
       "(9134, 24)"
      ]
     },
     "execution_count": 9,
     "metadata": {},
     "output_type": "execute_result"
    }
   ],
   "source": [
    "data.shape"
   ]
  },
  {
   "cell_type": "code",
   "execution_count": 10,
   "metadata": {},
   "outputs": [
    {
     "data": {
      "text/plain": [
       "Customer                          object\n",
       "State                             object\n",
       "Customer Lifetime Value          float64\n",
       "Response                          object\n",
       "Coverage                          object\n",
       "Education                         object\n",
       "Effective To Date                 object\n",
       "EmploymentStatus                  object\n",
       "Gender                            object\n",
       "Income                             int64\n",
       "Location Code                     object\n",
       "Marital Status                    object\n",
       "Monthly Premium Auto               int64\n",
       "Months Since Last Claim            int64\n",
       "Months Since Policy Inception      int64\n",
       "Number of Open Complaints          int64\n",
       "Number of Policies                 int64\n",
       "Policy Type                       object\n",
       "Policy                            object\n",
       "Renew Offer Type                  object\n",
       "Sales Channel                     object\n",
       "Total Claim Amount               float64\n",
       "Vehicle Class                     object\n",
       "Vehicle Size                      object\n",
       "dtype: object"
      ]
     },
     "execution_count": 10,
     "metadata": {},
     "output_type": "execute_result"
    }
   ],
   "source": [
    "data.dtypes"
   ]
  },
  {
   "cell_type": "code",
   "execution_count": 11,
   "metadata": {},
   "outputs": [
    {
     "data": {
      "text/html": [
       "<div>\n",
       "<style scoped>\n",
       "    .dataframe tbody tr th:only-of-type {\n",
       "        vertical-align: middle;\n",
       "    }\n",
       "\n",
       "    .dataframe tbody tr th {\n",
       "        vertical-align: top;\n",
       "    }\n",
       "\n",
       "    .dataframe thead th {\n",
       "        text-align: right;\n",
       "    }\n",
       "</style>\n",
       "<table border=\"1\" class=\"dataframe\">\n",
       "  <thead>\n",
       "    <tr style=\"text-align: right;\">\n",
       "      <th></th>\n",
       "      <th>Customer Lifetime Value</th>\n",
       "      <th>Income</th>\n",
       "      <th>Monthly Premium Auto</th>\n",
       "      <th>Months Since Last Claim</th>\n",
       "      <th>Months Since Policy Inception</th>\n",
       "      <th>Number of Open Complaints</th>\n",
       "      <th>Number of Policies</th>\n",
       "      <th>Total Claim Amount</th>\n",
       "    </tr>\n",
       "  </thead>\n",
       "  <tbody>\n",
       "    <tr>\n",
       "      <th>count</th>\n",
       "      <td>9134.000000</td>\n",
       "      <td>9134.000000</td>\n",
       "      <td>9134.000000</td>\n",
       "      <td>9134.000000</td>\n",
       "      <td>9134.000000</td>\n",
       "      <td>9134.000000</td>\n",
       "      <td>9134.000000</td>\n",
       "      <td>9134.000000</td>\n",
       "    </tr>\n",
       "    <tr>\n",
       "      <th>mean</th>\n",
       "      <td>8004.940475</td>\n",
       "      <td>37657.380009</td>\n",
       "      <td>93.219291</td>\n",
       "      <td>15.097000</td>\n",
       "      <td>48.064594</td>\n",
       "      <td>0.384388</td>\n",
       "      <td>2.966170</td>\n",
       "      <td>434.088794</td>\n",
       "    </tr>\n",
       "    <tr>\n",
       "      <th>std</th>\n",
       "      <td>6870.967608</td>\n",
       "      <td>30379.904734</td>\n",
       "      <td>34.407967</td>\n",
       "      <td>10.073257</td>\n",
       "      <td>27.905991</td>\n",
       "      <td>0.910384</td>\n",
       "      <td>2.390182</td>\n",
       "      <td>290.500092</td>\n",
       "    </tr>\n",
       "    <tr>\n",
       "      <th>min</th>\n",
       "      <td>1898.007675</td>\n",
       "      <td>0.000000</td>\n",
       "      <td>61.000000</td>\n",
       "      <td>0.000000</td>\n",
       "      <td>0.000000</td>\n",
       "      <td>0.000000</td>\n",
       "      <td>1.000000</td>\n",
       "      <td>0.099007</td>\n",
       "    </tr>\n",
       "    <tr>\n",
       "      <th>25%</th>\n",
       "      <td>3994.251794</td>\n",
       "      <td>0.000000</td>\n",
       "      <td>68.000000</td>\n",
       "      <td>6.000000</td>\n",
       "      <td>24.000000</td>\n",
       "      <td>0.000000</td>\n",
       "      <td>1.000000</td>\n",
       "      <td>272.258244</td>\n",
       "    </tr>\n",
       "    <tr>\n",
       "      <th>50%</th>\n",
       "      <td>5780.182197</td>\n",
       "      <td>33889.500000</td>\n",
       "      <td>83.000000</td>\n",
       "      <td>14.000000</td>\n",
       "      <td>48.000000</td>\n",
       "      <td>0.000000</td>\n",
       "      <td>2.000000</td>\n",
       "      <td>383.945434</td>\n",
       "    </tr>\n",
       "    <tr>\n",
       "      <th>75%</th>\n",
       "      <td>8962.167041</td>\n",
       "      <td>62320.000000</td>\n",
       "      <td>109.000000</td>\n",
       "      <td>23.000000</td>\n",
       "      <td>71.000000</td>\n",
       "      <td>0.000000</td>\n",
       "      <td>4.000000</td>\n",
       "      <td>547.514839</td>\n",
       "    </tr>\n",
       "    <tr>\n",
       "      <th>max</th>\n",
       "      <td>83325.381190</td>\n",
       "      <td>99981.000000</td>\n",
       "      <td>298.000000</td>\n",
       "      <td>35.000000</td>\n",
       "      <td>99.000000</td>\n",
       "      <td>5.000000</td>\n",
       "      <td>9.000000</td>\n",
       "      <td>2893.239678</td>\n",
       "    </tr>\n",
       "  </tbody>\n",
       "</table>\n",
       "</div>"
      ],
      "text/plain": [
       "       Customer Lifetime Value        Income  Monthly Premium Auto  \\\n",
       "count              9134.000000   9134.000000           9134.000000   \n",
       "mean               8004.940475  37657.380009             93.219291   \n",
       "std                6870.967608  30379.904734             34.407967   \n",
       "min                1898.007675      0.000000             61.000000   \n",
       "25%                3994.251794      0.000000             68.000000   \n",
       "50%                5780.182197  33889.500000             83.000000   \n",
       "75%                8962.167041  62320.000000            109.000000   \n",
       "max               83325.381190  99981.000000            298.000000   \n",
       "\n",
       "       Months Since Last Claim  Months Since Policy Inception  \\\n",
       "count              9134.000000                    9134.000000   \n",
       "mean                 15.097000                      48.064594   \n",
       "std                  10.073257                      27.905991   \n",
       "min                   0.000000                       0.000000   \n",
       "25%                   6.000000                      24.000000   \n",
       "50%                  14.000000                      48.000000   \n",
       "75%                  23.000000                      71.000000   \n",
       "max                  35.000000                      99.000000   \n",
       "\n",
       "       Number of Open Complaints  Number of Policies  Total Claim Amount  \n",
       "count                9134.000000         9134.000000         9134.000000  \n",
       "mean                    0.384388            2.966170          434.088794  \n",
       "std                     0.910384            2.390182          290.500092  \n",
       "min                     0.000000            1.000000            0.099007  \n",
       "25%                     0.000000            1.000000          272.258244  \n",
       "50%                     0.000000            2.000000          383.945434  \n",
       "75%                     0.000000            4.000000          547.514839  \n",
       "max                     5.000000            9.000000         2893.239678  "
      ]
     },
     "execution_count": 11,
     "metadata": {},
     "output_type": "execute_result"
    }
   ],
   "source": [
    "data.describe()"
   ]
  },
  {
   "cell_type": "markdown",
   "metadata": {},
   "source": [
    "Nuestro conjunto de datos tiene 9134 clientes con informacion sobre sus ingresos, educiacion, sexo, residencia, etc(income,education,gender,residence).Cada cliente posee un automovil y se le ofrece 4 tipos diferentes de seguros de automovil. El target de esa base de datos es la variable **Response**.La respuesta(Response) puede ser \"Si\"- el cliente acepta la oferta, y \"No\"-el cliente no acepta la oferta"
   ]
  },
  {
   "cell_type": "markdown",
   "metadata": {},
   "source": [
    "**Verificamos valores perdidos**"
   ]
  },
  {
   "cell_type": "code",
   "execution_count": 12,
   "metadata": {},
   "outputs": [
    {
     "data": {
      "text/plain": [
       "Customer                         0\n",
       "State                            0\n",
       "Customer Lifetime Value          0\n",
       "Response                         0\n",
       "Coverage                         0\n",
       "Education                        0\n",
       "Effective To Date                0\n",
       "EmploymentStatus                 0\n",
       "Gender                           0\n",
       "Income                           0\n",
       "Location Code                    0\n",
       "Marital Status                   0\n",
       "Monthly Premium Auto             0\n",
       "Months Since Last Claim          0\n",
       "Months Since Policy Inception    0\n",
       "Number of Open Complaints        0\n",
       "Number of Policies               0\n",
       "Policy Type                      0\n",
       "Policy                           0\n",
       "Renew Offer Type                 0\n",
       "Sales Channel                    0\n",
       "Total Claim Amount               0\n",
       "Vehicle Class                    0\n",
       "Vehicle Size                     0\n",
       "dtype: int64"
      ]
     },
     "execution_count": 12,
     "metadata": {},
     "output_type": "execute_result"
    }
   ],
   "source": [
    "data.isnull().sum()"
   ]
  },
  {
   "cell_type": "markdown",
   "metadata": {},
   "source": [
    "Tenemos 0 valores perdidos, lo cual nos facilita mucho el analisis"
   ]
  },
  {
   "cell_type": "markdown",
   "metadata": {},
   "source": [
    "## *_Gráficas_*"
   ]
  },
  {
   "cell_type": "markdown",
   "metadata": {},
   "source": [
    "**Distribución de la target de acuerdo a los factores dados**"
   ]
  },
  {
   "cell_type": "code",
   "execution_count": 14,
   "metadata": {},
   "outputs": [
    {
     "data": {
      "image/png": "[encoded data removed]",
      "text/plain": [
       "<Figure size 720x432 with 1 Axes>"
      ]
     },
     "metadata": {
      "needs_background": "light"
     },
     "output_type": "display_data"
    }
   ],
   "source": [
    "ax = data['Response'].value_counts().plot(kind='bar', figsize=(10,6), fontsize=13, color='#087E8B')\n",
    "ax.set_title('Acepta oferta(Yes = acpeta oferta, No=No acepta oferta)',size=20,pad=30)\n",
    "ax.set_ylabel('Numero de transacciones',fontsize=14)\n",
    "\n",
    "for i in ax.patches:\n",
    "    ax.text(i.get_x() + 0.19 , i.get_height() + 700, str(round(i.get_height(),2)),fontsize=15)"
   ]
  },
  {
   "cell_type": "markdown",
   "metadata": {},
   "source": [
    "Tenemos un fuerte desbalance de la target y nos damos cuenta que la labor se esta realizando mal debido a que se cuentan con muy pocas ofertas aprobadas"
   ]
  },
  {
   "cell_type": "markdown",
   "metadata": {},
   "source": [
    "**Vamos a visualizar que tipo de relación tienen los estados o la región con nuestra variable target (Responsive)**"
   ]
  },
  {
   "cell_type": "code",
   "execution_count": 16,
   "metadata": {},
   "outputs": [
    {
     "data": {
      "text/plain": [
       "<matplotlib.axes._subplots.AxesSubplot at 0x20010279a30>"
      ]
     },
     "execution_count": 16,
     "metadata": {},
     "output_type": "execute_result"
    },
    {
     "data": {
      "image/png": "[encoded data removed]",
      "text/plain": [
       "<Figure size 1080x432 with 1 Axes>"
      ]
     },
     "metadata": {
      "needs_background": "light"
     },
     "output_type": "display_data"
    }
   ],
   "source": [
    "f, ax = plt.subplots(1, 1, figsize=(15,6))\n",
    "sns.countplot(\"Response\", hue=\"State\",data=data)"
   ]
  },
  {
   "cell_type": "code",
   "execution_count": 17,
   "metadata": {},
   "outputs": [
    {
     "data": {
      "text/plain": [
       "<matplotlib.axes._subplots.AxesSubplot at 0x2000f89ac70>"
      ]
     },
     "execution_count": 17,
     "metadata": {},
     "output_type": "execute_result"
    },
    {
     "data": {
      "image/png": "[encoded data removed]",
      "text/plain": [
       "<Figure size 576x432 with 1 Axes>"
      ]
     },
     "metadata": {
      "needs_background": "light"
     },
     "output_type": "display_data"
    }
   ],
   "source": [
    "f, ax = plt.subplots(1, 1, figsize=(8,6))\n",
    "sns.countplot(\"Response\", hue=\"Gender\",data=data)"
   ]
  },
  {
   "cell_type": "code",
   "execution_count": 19,
   "metadata": {
    "scrolled": true
   },
   "outputs": [
    {
     "data": {
      "image/png": "[encoded data removed]",
      "text/plain": [
       "<Figure size 576x360 with 1 Axes>"
      ]
     },
     "metadata": {
      "needs_background": "light"
     },
     "output_type": "display_data"
    }
   ],
   "source": [
    "f, ax = plt.subplots(1, 1, figsize=(8,5))\n",
    "ax= sns.barplot(x=\"Response\", y=\"Income\",hue=\"Gender\",data=data, palette='plasma')"
   ]
  },
  {
   "cell_type": "code",
   "execution_count": 20,
   "metadata": {},
   "outputs": [
    {
     "data": {
      "image/png": "[encoded data removed]",
      "text/plain": [
       "<Figure size 576x360 with 1 Axes>"
      ]
     },
     "metadata": {
      "needs_background": "light"
     },
     "output_type": "display_data"
    }
   ],
   "source": [
    "f, ax = plt.subplots(1, 1, figsize=(8,5))\n",
    "ax= sns.barplot(x=\"Response\", y=\"Monthly Premium Auto\",hue=\"Gender\",data=data, palette='Reds_r')"
   ]
  },
  {
   "cell_type": "code",
   "execution_count": 22,
   "metadata": {},
   "outputs": [
    {
     "data": {
      "text/plain": [
       "<matplotlib.axes._subplots.AxesSubplot at 0x2000dce45e0>"
      ]
     },
     "execution_count": 22,
     "metadata": {},
     "output_type": "execute_result"
    },
    {
     "data": {
      "image/png": "[encoded data removed]",
      "text/plain": [
       "<Figure size 720x432 with 1 Axes>"
      ]
     },
     "metadata": {
      "needs_background": "light"
     },
     "output_type": "display_data"
    }
   ],
   "source": [
    "f, ax = plt.subplots(1, 1, figsize=(10,6))\n",
    "sns.countplot(\"Response\", hue=\"Vehicle Class\",data=data)"
   ]
  },
  {
   "cell_type": "code",
   "execution_count": 23,
   "metadata": {},
   "outputs": [
    {
     "data": {
      "text/plain": [
       "<matplotlib.axes._subplots.AxesSubplot at 0x20010005820>"
      ]
     },
     "execution_count": 23,
     "metadata": {},
     "output_type": "execute_result"
    },
    {
     "data": {
      "image/png": "[encoded data removed]",
      "text/plain": [
       "<Figure size 720x432 with 1 Axes>"
      ]
     },
     "metadata": {
      "needs_background": "light"
     },
     "output_type": "display_data"
    }
   ],
   "source": [
    "f, ax = plt.subplots(1, 1, figsize=(10,6))\n",
    "sns.countplot(\"Response\", hue=\"Sales Channel\",data=data,palette='Set1')"
   ]
  },
  {
   "cell_type": "code",
   "execution_count": 26,
   "metadata": {},
   "outputs": [
    {
     "data": {
      "text/plain": [
       "No     7826\n",
       "Yes    1308\n",
       "Name: Response, dtype: int64"
      ]
     },
     "execution_count": 26,
     "metadata": {},
     "output_type": "execute_result"
    }
   ],
   "source": [
    "data.Response.value_counts()"
   ]
  },
  {
   "cell_type": "markdown",
   "metadata": {},
   "source": [
    "Solo 1308 clientes aceptaron las ofertas"
   ]
  },
  {
   "cell_type": "code",
   "execution_count": 27,
   "metadata": {},
   "outputs": [
    {
     "name": "stdout",
     "output_type": "stream",
     "text": [
      "Solo 14.32 %  de los clientes aceptaron las ofertas realizadas por el equipo de ventas\n"
     ]
    }
   ],
   "source": [
    "print(\"Solo\", round((len(data[(data.Response==\"Yes\")])/len(data.Response)*100),2),\"%\",\" de los clientes aceptaron las ofertas realizadas por el equipo de ventas\")"
   ]
  },
  {
   "cell_type": "code",
   "execution_count": 31,
   "metadata": {},
   "outputs": [
    {
     "data": {
      "text/html": [
       "<div>\n",
       "<style scoped>\n",
       "    .dataframe tbody tr th:only-of-type {\n",
       "        vertical-align: middle;\n",
       "    }\n",
       "\n",
       "    .dataframe tbody tr th {\n",
       "        vertical-align: top;\n",
       "    }\n",
       "\n",
       "    .dataframe thead th {\n",
       "        text-align: right;\n",
       "    }\n",
       "</style>\n",
       "<table border=\"1\" class=\"dataframe\">\n",
       "  <thead>\n",
       "    <tr style=\"text-align: right;\">\n",
       "      <th></th>\n",
       "      <th>Response</th>\n",
       "    </tr>\n",
       "    <tr>\n",
       "      <th>Sales Channel</th>\n",
       "      <th></th>\n",
       "    </tr>\n",
       "  </thead>\n",
       "  <tbody>\n",
       "    <tr>\n",
       "      <th>Agent</th>\n",
       "      <td>3477</td>\n",
       "    </tr>\n",
       "    <tr>\n",
       "      <th>Branch</th>\n",
       "      <td>2567</td>\n",
       "    </tr>\n",
       "    <tr>\n",
       "      <th>Call Center</th>\n",
       "      <td>1765</td>\n",
       "    </tr>\n",
       "    <tr>\n",
       "      <th>Web</th>\n",
       "      <td>1325</td>\n",
       "    </tr>\n",
       "  </tbody>\n",
       "</table>\n",
       "</div>"
      ],
      "text/plain": [
       "               Response\n",
       "Sales Channel          \n",
       "Agent              3477\n",
       "Branch             2567\n",
       "Call Center        1765\n",
       "Web                1325"
      ]
     },
     "execution_count": 31,
     "metadata": {},
     "output_type": "execute_result"
    }
   ],
   "source": [
    "data.groupby(\"Sales Channel\").agg({\"Response\":\"count\"})"
   ]
  },
  {
   "cell_type": "markdown",
   "metadata": {},
   "source": [
    "La mayoria de las ofertas fueron realizadas por agentes(3477 ofertas) y la que tuvo menor oferta fue a traves del sitio web"
   ]
  },
  {
   "cell_type": "code",
   "execution_count": 33,
   "metadata": {},
   "outputs": [
    {
     "name": "stdout",
     "output_type": "stream",
     "text": [
      "19.15 % de las ofertas del Canal de Ventas  Agent fueron aceptadas.\n",
      "10.88 % de las ofertas del Canal de Ventas  Call Center fueron aceptadas.\n",
      "11.77 % de las ofertas del Canal de Ventas  Web fueron aceptadas.\n",
      "11.45 % de las ofertas del Canal de Ventas  Branch fueron aceptadas.\n"
     ]
    }
   ],
   "source": [
    "channel = list(data[\"Sales Channel\"].unique())\n",
    "for i in channel:\n",
    "    output = len (data[(data[\"Sales Channel\"] ==i)&(data[\"Response\"] ==\"Yes\")]) / len(data[(data[\"Sales Channel\"]==i)])\n",
    "    print(round((output*100),2), \"% de las ofertas del Canal de Ventas \",i, \"fueron aceptadas.\")"
   ]
  },
  {
   "cell_type": "code",
   "execution_count": 35,
   "metadata": {},
   "outputs": [
    {
     "name": "stdout",
     "output_type": "stream",
     "text": [
      "*  State  *\n",
      "California    3150\n",
      "Oregon        2601\n",
      "Arizona       1703\n",
      "Nevada         882\n",
      "Washington     798\n",
      "Name: State, dtype: int64\n",
      " \n",
      "*  Response  *\n",
      "No     7826\n",
      "Yes    1308\n",
      "Name: Response, dtype: int64\n",
      " \n",
      "*  Coverage  *\n",
      "Basic       5568\n",
      "Extended    2742\n",
      "Premium      824\n",
      "Name: Coverage, dtype: int64\n",
      " \n",
      "*  Education  *\n",
      "Bachelor                2748\n",
      "College                 2681\n",
      "High School or Below    2622\n",
      "Master                   741\n",
      "Doctor                   342\n",
      "Name: Education, dtype: int64\n",
      " \n",
      "*  EmploymentStatus  *\n",
      "Employed         5698\n",
      "Unemployed       2317\n",
      "Medical Leave     432\n",
      "Disabled          405\n",
      "Retired           282\n",
      "Name: EmploymentStatus, dtype: int64\n",
      " \n",
      "*  Gender  *\n",
      "F    4658\n",
      "M    4476\n",
      "Name: Gender, dtype: int64\n",
      " \n",
      "*  Location Code  *\n",
      "Suburban    5779\n",
      "Rural       1773\n",
      "Urban       1582\n",
      "Name: Location Code, dtype: int64\n",
      " \n",
      "*  Marital Status  *\n",
      "Married     5298\n",
      "Single      2467\n",
      "Divorced    1369\n",
      "Name: Marital Status, dtype: int64\n",
      " \n",
      "*  Policy Type  *\n",
      "Personal Auto     6788\n",
      "Corporate Auto    1968\n",
      "Special Auto       378\n",
      "Name: Policy Type, dtype: int64\n",
      " \n",
      "*  Policy  *\n",
      "Personal L3     3426\n",
      "Personal L2     2122\n",
      "Personal L1     1240\n",
      "Corporate L3    1014\n",
      "Corporate L2     595\n",
      "Corporate L1     359\n",
      "Special L2       164\n",
      "Special L3       148\n",
      "Special L1        66\n",
      "Name: Policy, dtype: int64\n",
      " \n",
      "*  Renew Offer Type  *\n",
      "Offer1    3752\n",
      "Offer2    2926\n",
      "Offer3    1432\n",
      "Offer4    1024\n",
      "Name: Renew Offer Type, dtype: int64\n",
      " \n",
      "*  Sales Channel  *\n",
      "Agent          3477\n",
      "Branch         2567\n",
      "Call Center    1765\n",
      "Web            1325\n",
      "Name: Sales Channel, dtype: int64\n",
      " \n",
      "*  Vehicle Class  *\n",
      "Four-Door Car    4621\n",
      "Two-Door Car     1886\n",
      "SUV              1796\n",
      "Sports Car        484\n",
      "Luxury SUV        184\n",
      "Luxury Car        163\n",
      "Name: Vehicle Class, dtype: int64\n",
      " \n",
      "*  Vehicle Size  *\n",
      "Medsize    6424\n",
      "Small      1764\n",
      "Large       946\n",
      "Name: Vehicle Size, dtype: int64\n",
      " \n"
     ]
    }
   ],
   "source": [
    "objects = [\"State\",\"Response\",\"Coverage\",\"Education\",\"EmploymentStatus\",\"Gender\",\n",
    "           \"Location Code\",\"Marital Status\",\"Policy Type\",\"Policy\",\n",
    "          \"Renew Offer Type\",\"Sales Channel\", \"Vehicle Class\", \"Vehicle Size\"]\n",
    "for obj in objects:\n",
    "    print(\"* \",obj,\" *\")\n",
    "    print(data[obj].value_counts())\n",
    "    print(\" \")\n",
    "    "
   ]
  },
  {
   "cell_type": "markdown",
   "metadata": {},
   "source": [
    "**Resultados**\n",
    "\n",
    "Todas las caracteristicas categoricas estan bien distribuidas, asi que las guardaré y las codificaremos en datos numericos.\n",
    "\n",
    "Algunas variables que tenemos en nuetro conjunto de datos no son tan importantes, por ejemplo el customer, policy es la misma que policy type, la fecha .\n",
    "\n",
    "Los datos no estan equilibrados con respecto a la variable respuesta."
   ]
  },
  {
   "cell_type": "markdown",
   "metadata": {},
   "source": [
    "# 4. Analisis de la data"
   ]
  },
  {
   "cell_type": "code",
   "execution_count": null,
   "metadata": {},
   "outputs": [],
   "source": []
  }
 ],
 "metadata": {
  "kernelspec": {
   "display_name": "Python 3",
   "language": "python",
   "name": "python3"
  },
  "language_info": {
   "codemirror_mode": {
    "name": "ipython",
    "version": 3
   },
   "file_extension": ".py",
   "mimetype": "text/x-python",
   "name": "python",
   "nbconvert_exporter": "python",
   "pygments_lexer": "ipython3",
   "version": "3.8.3"
  }
 },
 "nbformat": 4,
 "nbformat_minor": 4
}
